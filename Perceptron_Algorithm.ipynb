{
  "nbformat": 4,
  "nbformat_minor": 0,
  "metadata": {
    "colab": {
      "provenance": [],
      "authorship_tag": "ABX9TyMIE4mzvuQTTHphikjVkPyU"
    },
    "kernelspec": {
      "name": "python3",
      "display_name": "Python 3"
    },
    "language_info": {
      "name": "python"
    }
  },
  "cells": [
    {
      "cell_type": "code",
      "execution_count": null,
      "metadata": {
        "id": "dr4cvBjViVnL"
      },
      "outputs": [],
      "source": [
        "import pandas as pd\n",
        "import numpy as np\n",
        "import matplotlib.pyplot as plt\n",
        "from prettytable import PrettyTable"
      ]
    },
    {
      "cell_type": "code",
      "source": [
        "df = pd.read_csv('/content/train-perceptron.txt', header = None, sep = ' ')\n",
        "df"
      ],
      "metadata": {
        "id": "e_UTzhVMjJmQ",
        "colab": {
          "base_uri": "https://localhost:8080/",
          "height": 237
        },
        "outputId": "09803e44-9b1f-4e1b-a73a-d89343c695e2"
      },
      "execution_count": null,
      "outputs": [
        {
          "output_type": "execute_result",
          "data": {
            "text/plain": [
              "   0    1  2\n",
              "0  1  1.0  1\n",
              "1  1 -1.0  1\n",
              "2  2  2.5  2\n",
              "3  0  2.0  2\n",
              "4  2  3.0  2\n",
              "5  4  5.0  1"
            ],
            "text/html": [
              "\n",
              "  <div id=\"df-fee9c2c6-c89b-41a8-a19b-633544698329\">\n",
              "    <div class=\"colab-df-container\">\n",
              "      <div>\n",
              "<style scoped>\n",
              "    .dataframe tbody tr th:only-of-type {\n",
              "        vertical-align: middle;\n",
              "    }\n",
              "\n",
              "    .dataframe tbody tr th {\n",
              "        vertical-align: top;\n",
              "    }\n",
              "\n",
              "    .dataframe thead th {\n",
              "        text-align: right;\n",
              "    }\n",
              "</style>\n",
              "<table border=\"1\" class=\"dataframe\">\n",
              "  <thead>\n",
              "    <tr style=\"text-align: right;\">\n",
              "      <th></th>\n",
              "      <th>0</th>\n",
              "      <th>1</th>\n",
              "      <th>2</th>\n",
              "    </tr>\n",
              "  </thead>\n",
              "  <tbody>\n",
              "    <tr>\n",
              "      <th>0</th>\n",
              "      <td>1</td>\n",
              "      <td>1.0</td>\n",
              "      <td>1</td>\n",
              "    </tr>\n",
              "    <tr>\n",
              "      <th>1</th>\n",
              "      <td>1</td>\n",
              "      <td>-1.0</td>\n",
              "      <td>1</td>\n",
              "    </tr>\n",
              "    <tr>\n",
              "      <th>2</th>\n",
              "      <td>2</td>\n",
              "      <td>2.5</td>\n",
              "      <td>2</td>\n",
              "    </tr>\n",
              "    <tr>\n",
              "      <th>3</th>\n",
              "      <td>0</td>\n",
              "      <td>2.0</td>\n",
              "      <td>2</td>\n",
              "    </tr>\n",
              "    <tr>\n",
              "      <th>4</th>\n",
              "      <td>2</td>\n",
              "      <td>3.0</td>\n",
              "      <td>2</td>\n",
              "    </tr>\n",
              "    <tr>\n",
              "      <th>5</th>\n",
              "      <td>4</td>\n",
              "      <td>5.0</td>\n",
              "      <td>1</td>\n",
              "    </tr>\n",
              "  </tbody>\n",
              "</table>\n",
              "</div>\n",
              "      <button class=\"colab-df-convert\" onclick=\"convertToInteractive('df-fee9c2c6-c89b-41a8-a19b-633544698329')\"\n",
              "              title=\"Convert this dataframe to an interactive table.\"\n",
              "              style=\"display:none;\">\n",
              "        \n",
              "  <svg xmlns=\"http://www.w3.org/2000/svg\" height=\"24px\"viewBox=\"0 0 24 24\"\n",
              "       width=\"24px\">\n",
              "    <path d=\"M0 0h24v24H0V0z\" fill=\"none\"/>\n",
              "    <path d=\"M18.56 5.44l.94 2.06.94-2.06 2.06-.94-2.06-.94-.94-2.06-.94 2.06-2.06.94zm-11 1L8.5 8.5l.94-2.06 2.06-.94-2.06-.94L8.5 2.5l-.94 2.06-2.06.94zm10 10l.94 2.06.94-2.06 2.06-.94-2.06-.94-.94-2.06-.94 2.06-2.06.94z\"/><path d=\"M17.41 7.96l-1.37-1.37c-.4-.4-.92-.59-1.43-.59-.52 0-1.04.2-1.43.59L10.3 9.45l-7.72 7.72c-.78.78-.78 2.05 0 2.83L4 21.41c.39.39.9.59 1.41.59.51 0 1.02-.2 1.41-.59l7.78-7.78 2.81-2.81c.8-.78.8-2.07 0-2.86zM5.41 20L4 18.59l7.72-7.72 1.47 1.35L5.41 20z\"/>\n",
              "  </svg>\n",
              "      </button>\n",
              "      \n",
              "  <style>\n",
              "    .colab-df-container {\n",
              "      display:flex;\n",
              "      flex-wrap:wrap;\n",
              "      gap: 12px;\n",
              "    }\n",
              "\n",
              "    .colab-df-convert {\n",
              "      background-color: #E8F0FE;\n",
              "      border: none;\n",
              "      border-radius: 50%;\n",
              "      cursor: pointer;\n",
              "      display: none;\n",
              "      fill: #1967D2;\n",
              "      height: 32px;\n",
              "      padding: 0 0 0 0;\n",
              "      width: 32px;\n",
              "    }\n",
              "\n",
              "    .colab-df-convert:hover {\n",
              "      background-color: #E2EBFA;\n",
              "      box-shadow: 0px 1px 2px rgba(60, 64, 67, 0.3), 0px 1px 3px 1px rgba(60, 64, 67, 0.15);\n",
              "      fill: #174EA6;\n",
              "    }\n",
              "\n",
              "    [theme=dark] .colab-df-convert {\n",
              "      background-color: #3B4455;\n",
              "      fill: #D2E3FC;\n",
              "    }\n",
              "\n",
              "    [theme=dark] .colab-df-convert:hover {\n",
              "      background-color: #434B5C;\n",
              "      box-shadow: 0px 1px 3px 1px rgba(0, 0, 0, 0.15);\n",
              "      filter: drop-shadow(0px 1px 2px rgba(0, 0, 0, 0.3));\n",
              "      fill: #FFFFFF;\n",
              "    }\n",
              "  </style>\n",
              "\n",
              "      <script>\n",
              "        const buttonEl =\n",
              "          document.querySelector('#df-fee9c2c6-c89b-41a8-a19b-633544698329 button.colab-df-convert');\n",
              "        buttonEl.style.display =\n",
              "          google.colab.kernel.accessAllowed ? 'block' : 'none';\n",
              "\n",
              "        async function convertToInteractive(key) {\n",
              "          const element = document.querySelector('#df-fee9c2c6-c89b-41a8-a19b-633544698329');\n",
              "          const dataTable =\n",
              "            await google.colab.kernel.invokeFunction('convertToInteractive',\n",
              "                                                     [key], {});\n",
              "          if (!dataTable) return;\n",
              "\n",
              "          const docLinkHtml = 'Like what you see? Visit the ' +\n",
              "            '<a target=\"_blank\" href=https://colab.research.google.com/notebooks/data_table.ipynb>data table notebook</a>'\n",
              "            + ' to learn more about interactive tables.';\n",
              "          element.innerHTML = '';\n",
              "          dataTable['output_type'] = 'display_data';\n",
              "          await google.colab.output.renderOutput(dataTable, element);\n",
              "          const docLink = document.createElement('div');\n",
              "          docLink.innerHTML = docLinkHtml;\n",
              "          element.appendChild(docLink);\n",
              "        }\n",
              "      </script>\n",
              "    </div>\n",
              "  </div>\n",
              "  "
            ]
          },
          "metadata": {},
          "execution_count": 2
        }
      ]
    },
    {
      "cell_type": "code",
      "source": [
        "x1 = []\n",
        "x2 = []\n",
        "y1 = []\n",
        "y2 = []"
      ],
      "metadata": {
        "id": "69RbEvcmku7w"
      },
      "execution_count": null,
      "outputs": []
    },
    {
      "cell_type": "code",
      "source": [
        "for i in range(len(df)):\n",
        "  if df.iloc[i, 2] == 1:\n",
        "    x1.append(df.iloc[i, 0])\n",
        "    y1.append(df.iloc[i, 1])\n",
        "  else:\n",
        "    x2.append(df.iloc[i, 0])\n",
        "    y2.append(df.iloc[i, 1])"
      ],
      "metadata": {
        "id": "IRmd6tHuyTsm"
      },
      "execution_count": null,
      "outputs": []
    },
    {
      "cell_type": "code",
      "source": [
        "plt.figure(figsize = (12, 8))\n",
        "plt.scatter(x1, y1, c = 'b', marker = 's', s = 150, label = 'Class 1')\n",
        "plt.scatter(x2, y2, c = 'g', marker = 'p', s = 150, label = 'Class 2')\n",
        "plt.legend()\n",
        "plt.show()"
      ],
      "metadata": {
        "colab": {
          "base_uri": "https://localhost:8080/",
          "height": 483
        },
        "id": "7Zu1Ctu41zBe",
        "outputId": "68a3d3ee-1612-41fd-af22-9b8567967e8a"
      },
      "execution_count": null,
      "outputs": [
        {
          "output_type": "display_data",
          "data": {
            "text/plain": [
              "<Figure size 864x576 with 1 Axes>"
            ],
            "image/png": "[encoded data removed]"
          },
          "metadata": {
            "needs_background": "light"
          }
        }
      ]
    },
    {
      "cell_type": "code",
      "source": [
        "y = []\n",
        "for i in range (len(x1)):\n",
        "  a = []\n",
        "  a.append(x1[i]**2)\n",
        "  a.append(y1[i]**2)\n",
        "  a.append(x1[i] * y1[i])\n",
        "  a.append(x1[i])\n",
        "  a.append(y1[i])\n",
        "  a.append(1)\n",
        "\n",
        "  y.append(a)\n",
        "\n",
        "for i in range (len(x2)):\n",
        "  b = []\n",
        "  b.append((x2[i]**2)*(-1))\n",
        "  b.append((y2[i]**2)*(-1))\n",
        "  b.append((x2[i] * y2[i])*(-1))\n",
        "  b.append(x2[i]*(-1))\n",
        "  b.append(y2[i]*(-1))\n",
        "  b.append(1*(-1))\n",
        "\n",
        "  y.append(b)\n",
        "\n",
        "y = np.array(y)"
      ],
      "metadata": {
        "id": "O_UXngJF2m4h"
      },
      "execution_count": null,
      "outputs": []
    },
    {
      "cell_type": "code",
      "source": [
        "def oneAtaTime(y,w,lr):\n",
        "  numOfIteration = 0\n",
        "  totalUpdate = 0\n",
        "  Class = np.zeros(len(y),)\n",
        "  while numOfIteration<=1000:\n",
        "    for i in range(len(y)):\n",
        "      c = w.dot(y[i])\n",
        "      Class[i] = c\n",
        "      if c<=0:\n",
        "        w = w + lr*y[i]\n",
        "        totalUpdate+=1\n",
        "    numOfIteration+=1\n",
        "    if all(x>0 for x in Class):\n",
        "        break;\n",
        "        \n",
        "  #print(w)\n",
        "  return numOfIteration, totalUpdate\n",
        "\n",
        "def manyAtaTime(y,w,lr):\n",
        "  numOfIteration = 0\n",
        "  totalUpdate = 0\n",
        "  Class = np.zeros(len(y),)\n",
        "  while numOfIteration<=1000:\n",
        "    sum = np.zeros(len(y),)\n",
        "    for i in range(len(y)):\n",
        "      c = w.dot(y[i])\n",
        "      Class[i] = c\n",
        "      if c<=0:\n",
        "        sum = np.add(y[i],sum)\n",
        "\n",
        "    numOfIteration+=1\n",
        "\n",
        "    if all(x>0 for x in Class):\n",
        "      break;\n",
        "    else:\n",
        "      w = w + lr*sum\n",
        "      totalUpdate+=1\n",
        "      \n",
        "  #print(w)\n",
        "  return numOfIteration, totalUpdate"
      ],
      "metadata": {
        "id": "3WnJxME6Ohxv"
      },
      "execution_count": null,
      "outputs": []
    },
    {
      "cell_type": "code",
      "source": [
        "learning_rate = [i/10 for i in range(1,11)]\n",
        "\n",
        "w1 = np.zeros(6,)\n",
        "w2 = np.ones(6,)\n",
        "\n",
        "np.random.seed(42)\n",
        "w3 = np.random.rand(6,)\n",
        "\n",
        "w = np.array([w1,w2,w3])"
      ],
      "metadata": {
        "id": "3cskPk7X-zCk"
      },
      "execution_count": null,
      "outputs": []
    },
    {
      "cell_type": "code",
      "source": [
        "table_names = ['Initial Weight Vector All Zero', 'Initial Weight Vector All One', 'Initial Weight Vector All Random']"
      ],
      "metadata": {
        "id": "10SHdoMZsotM"
      },
      "execution_count": null,
      "outputs": []
    },
    {
      "cell_type": "code",
      "source": [
        "for k in range(len(w)):\n",
        "  numOfIter1 = []\n",
        "  numOfUpdate1 = []\n",
        "  numOfIter2 = []\n",
        "  numOfUpdate2 = []\n",
        "  for lr in learning_rate:\n",
        "    p,q = oneAtaTime(y, w[k], lr)\n",
        "    numOfIter1.append(p)\n",
        "    numOfUpdate1.append(q)\n",
        "    r,s = manyAtaTime(y, w[k], lr)\n",
        "    numOfIter2.append(r)\n",
        "    numOfUpdate2.append(s)\n",
        "   \n",
        "  t = PrettyTable(['Alpha (Learning Rate)', 'One at a Time', 'Many at a Time'])\n",
        "  t.title = table_names[k] + ' (Number of iteration)'\n",
        "  for i in range(len(learning_rate)):\n",
        "    t.add_row([learning_rate[i], numOfIter1[i], numOfIter2[i]])\n",
        "  print(t)\n",
        "\n",
        "  t1 = PrettyTable(['Alpha (Learning Rate)', 'One at a Time', 'Many at a Time'])\n",
        "  t1.title = table_names[k] + ' (Number of update)'\n",
        "  for i in range(len(learning_rate)):\n",
        "    t1.add_row([learning_rate[i], numOfUpdate1[i], numOfUpdate2[i]])\n",
        "  print(t1)\n",
        "\n",
        "  plt.figure(figsize = (12, 8))\n",
        "  x = np.arange(len(learning_rate))\n",
        "  width = 0.4\n",
        "  plt.bar(x-0.2, numOfIter1, width, label = 'One at a Time')\n",
        "  plt.bar(x+0.2, numOfIter2, width, label = 'Many at a Time')\n",
        "  plt.xticks(x, learning_rate)\n",
        "  plt.xlabel(\"Learning rate\")\n",
        "  plt.ylabel(\"Number of iterations\")\n",
        "  plt.title(\"Perceptron Comparison (\" + table_names[k] + ')')\n",
        "  plt.legend()\n",
        "  plt.show()\n"
      ],
      "metadata": {
        "colab": {
          "base_uri": "https://localhost:8080/",
          "height": 1000
        },
        "id": "jx3QCRugLsGt",
        "outputId": "7d7accc3-b891-400a-ec4f-241bf052bfcc"
      },
      "execution_count": null,
      "outputs": [
        {
          "output_type": "stream",
          "name": "stdout",
          "text": [
            "+--------------------------------------------------------+\n",
            "|  Initial Weight Vector All Zero (Number of iteration)  |\n",
            "+-----------------------+---------------+----------------+\n",
            "| Alpha (Learning Rate) | One at a Time | Many at a Time |\n",
            "+-----------------------+---------------+----------------+\n",
            "|          0.1          |       94      |      105       |\n",
            "|          0.2          |       94      |      105       |\n",
            "|          0.3          |       94      |      105       |\n",
            "|          0.4          |       94      |      105       |\n",
            "|          0.5          |       94      |       92       |\n",
            "|          0.6          |       94      |      105       |\n",
            "|          0.7          |       94      |       92       |\n",
            "|          0.8          |       94      |      105       |\n",
            "|          0.9          |       94      |      105       |\n",
            "|          1.0          |       94      |       92       |\n",
            "+-----------------------+---------------+----------------+\n",
            "+--------------------------------------------------------+\n",
            "|   Initial Weight Vector All Zero (Number of update)    |\n",
            "+-----------------------+---------------+----------------+\n",
            "| Alpha (Learning Rate) | One at a Time | Many at a Time |\n",
            "+-----------------------+---------------+----------------+\n",
            "|          0.1          |      184      |      104       |\n",
            "|          0.2          |      184      |      104       |\n",
            "|          0.3          |      184      |      104       |\n",
            "|          0.4          |      184      |      104       |\n",
            "|          0.5          |      184      |       91       |\n",
            "|          0.6          |      184      |      104       |\n",
            "|          0.7          |      184      |       91       |\n",
            "|          0.8          |      184      |      104       |\n",
            "|          0.9          |      184      |      104       |\n",
            "|          1.0          |      184      |       91       |\n",
            "+-----------------------+---------------+----------------+\n"
          ]
        },
        {
          "output_type": "display_data",
          "data": {
            "text/plain": [
              "<Figure size 864x576 with 1 Axes>"
            ],
            "image/png": "[encoded data removed]"
          },
          "metadata": {
            "needs_background": "light"
          }
        },
        {
          "output_type": "stream",
          "name": "stdout",
          "text": [
            "+--------------------------------------------------------+\n",
            "|  Initial Weight Vector All One (Number of iteration)   |\n",
            "+-----------------------+---------------+----------------+\n",
            "| Alpha (Learning Rate) | One at a Time | Many at a Time |\n",
            "+-----------------------+---------------+----------------+\n",
            "|          0.1          |       6       |      102       |\n",
            "|          0.2          |       92      |      104       |\n",
            "|          0.3          |      104      |       91       |\n",
            "|          0.4          |      106      |      116       |\n",
            "|          0.5          |       93      |      105       |\n",
            "|          0.6          |       93      |      114       |\n",
            "|          0.7          |      108      |       91       |\n",
            "|          0.8          |      115      |       91       |\n",
            "|          0.9          |       94      |      105       |\n",
            "|          1.0          |       94      |       93       |\n",
            "+-----------------------+---------------+----------------+\n",
            "+--------------------------------------------------------+\n",
            "|    Initial Weight Vector All One (Number of update)    |\n",
            "+-----------------------+---------------+----------------+\n",
            "| Alpha (Learning Rate) | One at a Time | Many at a Time |\n",
            "+-----------------------+---------------+----------------+\n",
            "|          0.1          |       13      |      101       |\n",
            "|          0.2          |      179      |      103       |\n",
            "|          0.3          |      199      |       90       |\n",
            "|          0.4          |      202      |      115       |\n",
            "|          0.5          |      182      |      104       |\n",
            "|          0.6          |      180      |      113       |\n",
            "|          0.7          |      203      |       90       |\n",
            "|          0.8          |      215      |       90       |\n",
            "|          0.9          |      183      |      104       |\n",
            "|          1.0          |      183      |       92       |\n",
            "+-----------------------+---------------+----------------+\n"
          ]
        },
        {
          "output_type": "display_data",
          "data": {
            "text/plain": [
              "<Figure size 864x576 with 1 Axes>"
            ],
            "image/png": "[encoded data removed]"
          },
          "metadata": {
            "needs_background": "light"
          }
        },
        {
          "output_type": "stream",
          "name": "stdout",
          "text": [
            "+-----------------------------------------------------------+\n",
            "|   Initial Weight Vector All Random (Number of iteration)  |\n",
            "+------------------------+----------------+-----------------+\n",
            "| Alpha (Learning Rate)  | One at a Time  |  Many at a Time |\n",
            "+------------------------+----------------+-----------------+\n",
            "|          0.1           |      107       |       125       |\n",
            "|          0.2           |       98       |        98       |\n",
            "|          0.3           |      104       |       100       |\n",
            "|          0.4           |      101       |       130       |\n",
            "|          0.5           |       84       |       121       |\n",
            "|          0.6           |       94       |       107       |\n",
            "|          0.7           |      105       |       121       |\n",
            "|          0.8           |      106       |       137       |\n",
            "|          0.9           |      115       |       106       |\n",
            "|          1.0           |      105       |       122       |\n",
            "+------------------------+----------------+-----------------+\n",
            "+--------------------------------------------------------+\n",
            "|  Initial Weight Vector All Random (Number of update)   |\n",
            "+-----------------------+---------------+----------------+\n",
            "| Alpha (Learning Rate) | One at a Time | Many at a Time |\n",
            "+-----------------------+---------------+----------------+\n",
            "|          0.1          |      204      |      124       |\n",
            "|          0.2          |      192      |       97       |\n",
            "|          0.3          |      202      |       99       |\n",
            "|          0.4          |      195      |      129       |\n",
            "|          0.5          |      163      |      120       |\n",
            "|          0.6          |      183      |      106       |\n",
            "|          0.7          |      203      |      120       |\n",
            "|          0.8          |      201      |      136       |\n",
            "|          0.9          |      214      |      105       |\n",
            "|          1.0          |      201      |      121       |\n",
            "+-----------------------+---------------+----------------+\n"
          ]
        },
        {
          "output_type": "display_data",
          "data": {
            "text/plain": [
              "<Figure size 864x576 with 1 Axes>"
            ],
            "image/png": "[encoded data removed]"
          },
          "metadata": {
            "needs_background": "light"
          }
        }
      ]
    }
  ]
}